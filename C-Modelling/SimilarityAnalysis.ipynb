{
 "cells": [
  {
   "cell_type": "markdown",
   "id": "7a694d93",
   "metadata": {},
   "source": [
    "# This notebook performs similarity analysis\n"
   ]
  },
  {
   "cell_type": "code",
   "execution_count": 1,
   "id": "437d1259",
   "metadata": {},
   "outputs": [],
   "source": [
    "# Import the libraries\n",
    "import pandas as pd\n",
    "from sklearn.feature_extraction.text import TfidfVectorizer\n",
    "from sklearn.metrics.pairwise import cosine_similarity, linear_kernel"
   ]
  },
  {
   "cell_type": "code",
   "execution_count": 2,
   "id": "18cabc6c",
   "metadata": {},
   "outputs": [],
   "source": [
    "filename=r'..\\DatasetEnglish.csv'\n",
    "data=pd.read_csv(filename)\n",
    "data=data.drop(['index'], axis=1)\n",
    "data.head()\n",
    "\n",
    "data_use=data[['talk_title','talk_description','speakers_name', 'topic_0_name','topic_1_name','topic_2_name','topic_3_name',\n",
    "              'topic_4_name','topic_5_name','topic_6_name','topic_7_name','transcript','related_talk_1_slug',\n",
    "               'related_talk_2_slug','related_talk_3_slug','related_talk_4_slug','related_talk_5_slug']]"
   ]
  },
  {
   "cell_type": "markdown",
   "id": "9988ffb7",
   "metadata": {},
   "source": [
    "### Calculating cosine similarity"
   ]
  },
  {
   "cell_type": "code",
   "execution_count": 3,
   "id": "37d32733",
   "metadata": {},
   "outputs": [],
   "source": [
    "tfidf = TfidfVectorizer(stop_words='english')\n",
    "\n",
    "data['combined_features'] = data['talk_slug'] + ' ' + data['talk_description'] + ' ' + data['speakers_name'] + ' ' +data['topic_0_name'] + ' ' + data['transcript']\n",
    "data['combined_features'] = data['combined_features'].fillna('')\n",
    "\n",
    "tfidf_matrix = tfidf.fit_transform(data['combined_features'])\n",
    "\n",
    "cosine_sim = cosine_similarity(tfidf_matrix, tfidf_matrix)"
   ]
  },
  {
   "cell_type": "markdown",
   "id": "90cb6dd9",
   "metadata": {},
   "source": [
    "### Pushing vectors to Zilliz vector db"
   ]
  },
  {
   "cell_type": "code",
   "execution_count": 8,
   "id": "7ac9635c",
   "metadata": {},
   "outputs": [],
   "source": [
    "from pymilvus import MilvusClient\n",
    "\n",
    "# Replace uri and API key with your own\n",
    "client = MilvusClient(\n",
    "    uri='',\n",
    "    token=''\n",
    ")"
   ]
  },
  {
   "cell_type": "code",
   "execution_count": 45,
   "id": "b187543e",
   "metadata": {
    "scrolled": true
   },
   "outputs": [],
   "source": [
    "cosine_sim_list = cosine_sim.tolist()\n",
    "\n",
    "for i in range(4000,len(data)):\n",
    "    ent={}\n",
    "    ent['talk_id']=int(data['talk_id'][i])\n",
    "    ent['vector']=cosine_sim_list[i]\n",
    "    res = client.insert(\n",
    "      collection_name='CosineSimilarity',\n",
    "      data=ent\n",
    "    )"
   ]
  },
  {
   "cell_type": "code",
   "execution_count": 27,
   "id": "25524125",
   "metadata": {},
   "outputs": [
    {
     "name": "stdout",
     "output_type": "stream",
     "text": [
      "{'collection_name': 'CosineSimilarity', 'auto_id': True, 'num_shards': 1, 'description': 'Collection with cosine similarity vectors', 'fields': [{'field_id': 100, 'name': 'id', 'description': '', 'type': 5, 'params': {}, 'element_type': 0, 'auto_id': True, 'is_primary': True}, {'field_id': 101, 'name': 'vector', 'description': '', 'type': 101, 'params': {'dim': 4959}, 'element_type': 0}], 'aliases': [], 'collection_id': 445765802482541573, 'consistency_level': 2, 'properties': {}, 'num_partitions': 1, 'enable_dynamic_field': True}\n"
     ]
    }
   ],
   "source": [
    "schema = client.describe_collection(collection_name='CosineSimilarity')\n",
    "print(schema)"
   ]
  },
  {
   "cell_type": "code",
   "execution_count": 6,
   "id": "8a750ea7",
   "metadata": {},
   "outputs": [],
   "source": [
    "# user selects a talk \n",
    "def get_title_from_index(index):\n",
    "    return data[data.index == index]['talk_slug'].values[0]\n",
    "\n",
    "def get_index_from_title(title):\n",
    "    return data[data.talk_slug == title].index.values[0]\n",
    "\n",
    "talk_user_likes = data['talk_slug'].loc[1]\n",
    "talk_index = get_index_from_title(talk_user_likes)\n",
    "\n",
    "similar_talks = list(enumerate(cosine_sim[talk_index]))\n",
    "similar_talks = sorted(similar_talks, key=lambda x: x[1], reverse=True)\n",
    "\n",
    "print('Talks similar to ' + talk_user_likes + ' are:\\n')\n",
    "for i in range(10):\n",
    "    print(get_title_from_index(similar_talks[i][0]))"
   ]
  },
  {
   "cell_type": "code",
   "execution_count": 7,
   "id": "a7671634",
   "metadata": {},
   "outputs": [
    {
     "data": {
      "text/plain": [
       "'aala_el_khani_what_it_s_like_to_be_a_parent_in_a_war_zone'"
      ]
     },
     "execution_count": 7,
     "metadata": {},
     "output_type": "execute_result"
    }
   ],
   "source": [
    "data['talk_slug'].loc[1]"
   ]
  },
  {
   "cell_type": "code",
   "execution_count": null,
   "id": "8d6e1fc7",
   "metadata": {},
   "outputs": [],
   "source": []
  },
  {
   "cell_type": "code",
   "execution_count": null,
   "id": "30e4410a",
   "metadata": {},
   "outputs": [],
   "source": [
    "## 3. Cosine similarity"
   ]
  },
  {
   "cell_type": "code",
   "execution_count": null,
   "id": "fb1c975d",
   "metadata": {},
   "outputs": [],
   "source": [
    "from sklearn.feature_extraction.text import TfidfVectorizer\n",
    "from sklearn.metrics.pairwise import cosine_similarity\n",
    "\n",
    "df['fully_cleaned']= df['transcript'].apply(clean_text)\n",
    "\n",
    "vectorizer = TfidfVectorizer()\n",
    "tfidf_matrix = vectorizer.fit_transform(df['fully_cleaned'])\n",
    "cosine_sim = cosine_similarity(tfidf_matrix, tfidf_matrix)\n",
    "\n",
    "print(cosine_sim.shape)\n",
    "print(cosine_sim[0])"
   ]
  },
  {
   "cell_type": "code",
   "execution_count": null,
   "id": "5bf3d824",
   "metadata": {},
   "outputs": [],
   "source": [
    "sns.clustermap(cosine_sim, cmap='hot', annot=True, dendrogram_ratio=0.1) \n",
    "plt.show()"
   ]
  },
  {
   "cell_type": "code",
   "execution_count": null,
   "id": "74c67693",
   "metadata": {},
   "outputs": [],
   "source": []
  },
  {
   "cell_type": "code",
   "execution_count": null,
   "id": "e84b8744",
   "metadata": {},
   "outputs": [],
   "source": [
    "## 4. Jaccard similarity"
   ]
  },
  {
   "cell_type": "code",
   "execution_count": null,
   "id": "9d9e6b0b",
   "metadata": {},
   "outputs": [],
   "source": [
    "from sklearn.feature_extraction.text import CountVectorizer \n",
    "from sklearn.metrics import jaccard_score\n",
    "\n",
    "sentences = list(df['fully_cleaned'])\n",
    "vectorizer = CountVectorizer(binary=True)\n",
    "\n",
    "vectors = vectorizer.fit_transform(sentences)\n",
    "vectors = vectors.toarray()\n",
    "\n",
    "jaccard_sim = []\n",
    "\n",
    "for i in range(len(vectors)): \n",
    "    for j in range(i+1, len(vectors)): \n",
    "        score = jaccard_score(vectors[i], vectors[j], average='micro') \n",
    "        jaccard_sim.append((score, i, j))"
   ]
  },
  {
   "cell_type": "code",
   "execution_count": null,
   "id": "b98348e5",
   "metadata": {},
   "outputs": [],
   "source": [
    "x = [i for score, i, j in jaccard_sim] \n",
    "y = [j for score, i, j in jaccard_sim] \n",
    "c = [score for score, i, j in jaccard_sim]\n",
    "\n",
    "\n",
    "plt.scatter(x, y, c=c, cmap='Blues') \n",
    "plt.colorbar() \n",
    "plt.xlabel('Word set index') \n",
    "plt.ylabel('Word set index') plt.show()"
   ]
  },
  {
   "cell_type": "code",
   "execution_count": null,
   "id": "8708f61b",
   "metadata": {},
   "outputs": [],
   "source": [
    "n = len(word_sets) # Number of word sets \n",
    "jaccard_matrix = np.zeros((n, n)) # Initialize an empty matrix \n",
    "for score, i, j in jaccard_sim: # Loop through the list of scores \n",
    "    jaccard_matrix[i, j] = score # Fill the matrix with the scores \n",
    "    jaccard_matrix[j, i] = score # The matrix is symmetric\n",
    "\n",
    "jaccard_df = pd.DataFrame(jaccard_matrix, index=df.index, columns=df.index)\n",
    "\n",
    "sns.heatmap(jaccard_df, annot=True, cmap=‘Blues’) \n",
    "plt.show()\n",
    "\n",
    "import matplotlib.pyplot as plt\n",
    "\n",
    "Extract the x and y coordinates and the Jaccard similarity scores from the list"
   ]
  },
  {
   "cell_type": "code",
   "execution_count": null,
   "id": "83fb2c79",
   "metadata": {},
   "outputs": [],
   "source": []
  },
  {
   "cell_type": "code",
   "execution_count": null,
   "id": "2ffbb825",
   "metadata": {},
   "outputs": [],
   "source": [
    "## 5. Euclidean distance"
   ]
  },
  {
   "cell_type": "code",
   "execution_count": null,
   "id": "95720acc",
   "metadata": {},
   "outputs": [],
   "source": [
    "from sklearn.metrics.pairwise import euclidean_distances\n",
    "\n",
    "vectorizer2 = CountVectorizer()\n",
    "\n",
    "count_matrix = vectorizer2.fit_transform(df['fully_cleaned'])\n",
    "\n",
    "euclidean_dist = euclidean_distances(count_matrix, count_matrix)\n",
    "\n",
    "print(euclidean_dist.shape)\n",
    "print(euclidean_dist[0])"
   ]
  },
  {
   "cell_type": "code",
   "execution_count": null,
   "id": "7aa2e8f7",
   "metadata": {},
   "outputs": [],
   "source": []
  },
  {
   "cell_type": "code",
   "execution_count": null,
   "id": "1a046e5e",
   "metadata": {},
   "outputs": [],
   "source": []
  },
  {
   "cell_type": "code",
   "execution_count": null,
   "id": "4a377547",
   "metadata": {},
   "outputs": [],
   "source": []
  }
 ],
 "metadata": {
  "kernelspec": {
   "display_name": "Python 3 (ipykernel)",
   "language": "python",
   "name": "python3"
  },
  "language_info": {
   "codemirror_mode": {
    "name": "ipython",
    "version": 3
   },
   "file_extension": ".py",
   "mimetype": "text/x-python",
   "name": "python",
   "nbconvert_exporter": "python",
   "pygments_lexer": "ipython3",
   "version": "3.10.13"
  }
 },
 "nbformat": 4,
 "nbformat_minor": 5
}
