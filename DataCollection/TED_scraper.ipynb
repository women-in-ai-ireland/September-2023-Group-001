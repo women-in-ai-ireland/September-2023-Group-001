{
 "cells": [
  {
   "cell_type": "code",
   "execution_count": 1,
   "id": "09b61069",
   "metadata": {},
   "outputs": [],
   "source": [
    "# Importing libraries\n",
    "from bs4 import BeautifulSoup\n",
    "#from multiprocessing import Process, Manager\n",
    "import pandas as pd\n",
    "import requests\n",
    "import urllib.request\n",
    "\n",
    "#from datetime import datetime\n",
    "#, sys, os, time, json, re, random, ast\n",
    "\n"
   ]
  },
  {
   "cell_type": "code",
   "execution_count": 21,
   "id": "216da8f0",
   "metadata": {},
   "outputs": [],
   "source": [
    "urls = []\n",
    "\n",
    "# User Inputs\n",
    "page_number=1\n",
    "topic='cyber+security' # Select a topic from the list available here: https://www.ted.com/topics\n",
    "f = open('TED_Talk_'+topic+'_URLs.txt', 'w')\n",
    "\n",
    "while True:\n",
    "    \n",
    "  res  =  requests.get(\"https://www.ted.com/talks?page=\"+str(page_number)+\"&sort=newest&topics[]=\"+topic)\n",
    "\n",
    "  soup = BeautifulSoup(res.text)\n",
    "\n",
    "  e=soup.find('div', id='browse-results')\n",
    "\n",
    "\n",
    "  string_end=\"Sorry. We couldn't find a talk quite like that.\" \n",
    "\n",
    "  if e is None:\n",
    "    break\n",
    "  elif e.find('div', class_='h3 m2') is not None:\n",
    "    if e.find('div', class_='h3 m2').text==string_end:\n",
    "      break\n",
    "  else:\n",
    "    soup = BeautifulSoup(res.text)\n",
    "    e=soup.find('div', id='browse-results')\n",
    "\n",
    "    for elem in e.find_all(\"h4\", class_=\"h9 m5 f-w:700\"):\n",
    "      urls.append(elem.find('a')['href'])\n",
    "    page_number+=1\n",
    "\n",
    "\n",
    "f.write('\\n'.join(urls))\n",
    "f.close()\n"
   ]
  },
  {
   "cell_type": "code",
   "execution_count": null,
   "id": "127d237a",
   "metadata": {},
   "outputs": [],
   "source": []
  },
  {
   "cell_type": "code",
   "execution_count": null,
   "id": "7e1e9a4c",
   "metadata": {},
   "outputs": [],
   "source": []
  }
 ],
 "metadata": {
  "kernelspec": {
   "display_name": "Python 3 (ipykernel)",
   "language": "python",
   "name": "python3"
  },
  "language_info": {
   "codemirror_mode": {
    "name": "ipython",
    "version": 3
   },
   "file_extension": ".py",
   "mimetype": "text/x-python",
   "name": "python",
   "nbconvert_exporter": "python",
   "pygments_lexer": "ipython3",
   "version": "3.10.13"
  }
 },
 "nbformat": 4,
 "nbformat_minor": 5
}
